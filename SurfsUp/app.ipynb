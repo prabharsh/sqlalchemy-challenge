{
 "cells": [
  {
   "cell_type": "code",
   "execution_count": 2,
   "metadata": {},
   "outputs": [
    {
     "name": "stdout",
     "output_type": "stream",
     "text": [
      " * Serving Flask app \"__main__\" (lazy loading)\n",
      " * Environment: production\n",
      "   WARNING: This is a development server. Do not use it in a production deployment.\n",
      "   Use a production WSGI server instead.\n",
      " * Debug mode: on\n"
     ]
    },
    {
     "name": "stderr",
     "output_type": "stream",
     "text": [
      " * Restarting with watchdog (windowsapi)\n"
     ]
    },
    {
     "ename": "SystemExit",
     "evalue": "1",
     "output_type": "error",
     "traceback": [
      "An exception has occurred, use %tb to see the full traceback.\n",
      "\u001b[1;31mSystemExit\u001b[0m\u001b[1;31m:\u001b[0m 1\n"
     ]
    },
    {
     "name": "stderr",
     "output_type": "stream",
     "text": [
      "C:\\Users\\prabh\\anaconda3\\lib\\site-packages\\IPython\\core\\interactiveshell.py:3441: UserWarning: To exit: use 'exit', 'quit', or Ctrl-D.\n",
      "  warn(\"To exit: use 'exit', 'quit', or Ctrl-D.\", stacklevel=1)\n"
     ]
    }
   ],
   "source": [
    "import numpy as np\n",
    "import pandas as pd\n",
    "import datetime as dt\n",
    "\n",
    "import sqlalchemy\n",
    "from sqlalchemy.ext.automap import automap_base\n",
    "from sqlalchemy.orm import Session\n",
    "from sqlalchemy import create_engine, func\n",
    "\n",
    "from flask import Flask, jsonify\n",
    "\n",
    "\n",
    "# Database Setup\n",
    "engine = create_engine(\"sqlite:///Resources/hawaii.sqlite\")\n",
    "#reflect an existing database into a new model\n",
    "Base = automap_base()\n",
    "#reflect the tables\n",
    "Base.prepare(engine, reflect=True)\n",
    "#Save reference to the table\n",
    "measurement = Base.classes.measurement\n",
    "station = Base.classes.station\n",
    "\n",
    "#Flask Setup``\n",
    "app = Flask(__name__)\n",
    "\n",
    "#Flask Routes\n",
    "@app.route(\"/\")\n",
    "def welcome():\n",
    "    \"\"\"List all available api routes.\"\"\"\n",
    "    return (\n",
    "        f\"Available Routes:<br/>\"\n",
    "        f\"/api/v1.0/precipitation\"\n",
    "        f\"/api/v1.0/stations\"\n",
    "        f\"/api/v1.0/tobs\"\n",
    "        f\"/api/v1.0/<start>\"\n",
    "        f\"/api/v1.0/<start>/<end>\"\n",
    "    )\n",
    "\n",
    "@app.route(\"/api/v1.0/precipitation\")\n",
    "def precipitation():\n",
    "    #Create our session(link) from Python to the DB\n",
    "    session = Session(engine)\n",
    "\n",
    "    \"\"\"Return the JSON representation of your dictionary\"\"\"\n",
    "    recent_date = dt.date(2017, 8 ,23)\n",
    "    yr_ago = recent_date - dt.timedelta(days=365)\n",
    "    twelve_month_prcp = session.query(measurement.date, measurement.prcp).\\\n",
    "    filter(measurement.date > yr_ago).\\\n",
    "    order_by(measurement.date).all()\n",
    "\n",
    "    session.close()\n",
    "\n",
    "    #Convert query into dictionary using dict comphrension\n",
    "    prcp = {date: prcp for date, prcp in twelve_month_prcp}\n",
    "\n",
    "    return jsonify(prcp)\n",
    "\n",
    "@app.route('/api/v1.0/stations')\n",
    "def stations():\n",
    "    #Create our session(link) from Python to the DB\n",
    "    session = Session(engine)\n",
    "\n",
    "    \"\"\"Return a JSON list of stations from the dataset\"\"\"\n",
    "    active_stations = session.query(station.station).all()\n",
    "\n",
    "    session.close()\n",
    "\n",
    "    return jsonify(active_stations)\n",
    "\n",
    "@app.route('/api/v1.0/tobs')\n",
    "def tobs():\n",
    "    #Create our session(link) from Python to the DB\n",
    "    session = Session(engine)\n",
    "\n",
    "    \"\"\"Return a JSON list of temperature observations (TOBS) \n",
    "    for the previous year.\"\"\"\n",
    "    recent_date = dt.date(2017, 8 ,23)\n",
    "    yr_ago = recent_date - dt.timedelta(days=365)\n",
    "    previous_yr = (session.query(measurement.tobs)\n",
    "                .filter(measurement.station == 'USC00519281')\n",
    "                .filter(measurement.date <= recent_date)\n",
    "                .filter(measurement.date >= yr_ago)\n",
    "                .order_by(measurement.tobs).all())\n",
    "\n",
    "    session.close()\n",
    "\n",
    "    return jsonify(previous_yr)\n",
    "\n",
    "@app.route('/api/v1.0/<start>') \n",
    "def start(start):\n",
    "    #Create our session(link) from Python to the DB\n",
    "    session = Session(engine)\n",
    "\n",
    "    all_tobs = (session.query(measurement.tobs)\n",
    "                .filter(measurement.date.between(start, '2017-08-23')).all())\n",
    "    \n",
    "    session.close()\n",
    "\n",
    "    tobs_df = pd.DataFrame(all_tobs)\n",
    "\n",
    "    tavg = tobs_df[\"tobs\"].mean()\n",
    "    tmax = tobs_df[\"tobs\"].max()\n",
    "    tmin = tobs_df[\"tobs\"].min()\n",
    "    \n",
    "    return jsonify(tavg, tmax, tmin)\n",
    "\n",
    "@app.route('/api/v1.0/<start>/<end>') \n",
    "def startend(start, end):\n",
    "    #Create our session(link) from Python to the DB\n",
    "    session = Session(engine)\n",
    "    \n",
    "    tobs_only = (session.query(measurement.tobs)\n",
    "                .filter(measurement.date.between(start, end)).all())\n",
    "    \n",
    "    session.close()\n",
    "\n",
    "    tobs_df = pd.DataFrame(tobs_only)\n",
    "\n",
    "    tavg = tobs_df[\"tobs\"].mean()\n",
    "    tmax = tobs_df[\"tobs\"].max()\n",
    "    tmin = tobs_df[\"tobs\"].min()\n",
    "    \n",
    "    return jsonify(tavg, tmax, tmin)\n",
    "\n",
    "if __name__ == '__main__':\n",
    "    app.run(debug=True)\n"
   ]
  },
  {
   "cell_type": "code",
   "execution_count": null,
   "metadata": {},
   "outputs": [],
   "source": []
  }
 ],
 "metadata": {
  "anaconda-cloud": {},
  "kernel_info": {
   "name": "python3"
  },
  "kernelspec": {
   "display_name": "Python 3 (ipykernel)",
   "language": "python",
   "name": "python3"
  },
  "language_info": {
   "codemirror_mode": {
    "name": "ipython",
    "version": 3
   },
   "file_extension": ".py",
   "mimetype": "text/x-python",
   "name": "python",
   "nbconvert_exporter": "python",
   "pygments_lexer": "ipython3",
   "version": "3.9.15"
  },
  "nteract": {
   "version": "0.12.3"
  },
  "varInspector": {
   "cols": {
    "lenName": 16,
    "lenType": 16,
    "lenVar": 40
   },
   "kernels_config": {
    "python": {
     "delete_cmd_postfix": "",
     "delete_cmd_prefix": "del ",
     "library": "var_list.py",
     "varRefreshCmd": "print(var_dic_list())"
    },
    "r": {
     "delete_cmd_postfix": ") ",
     "delete_cmd_prefix": "rm(",
     "library": "var_list.r",
     "varRefreshCmd": "cat(var_dic_list()) "
    }
   },
   "types_to_exclude": [
    "module",
    "function",
    "builtin_function_or_method",
    "instance",
    "_Feature"
   ],
   "window_display": false
  }
 },
 "nbformat": 4,
 "nbformat_minor": 2
}
